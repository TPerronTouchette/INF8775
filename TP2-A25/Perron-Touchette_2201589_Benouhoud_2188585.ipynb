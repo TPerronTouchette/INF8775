{
  "cells": [
    {
      "cell_type": "markdown",
      "metadata": {
        "id": "q3aooesv4VEA"
      },
      "source": [
        "# INF8775 – Analyse et conception d’algorithmes\n",
        "# TP2 – Automne 2025"
      ]
    },
    {
      "cell_type": "markdown",
      "metadata": {
        "id": "tmE33YYV4VED"
      },
      "source": [
        "Perron Touchette, Thomas, 2201589\n",
        "\n",
        "Benouhoud, Mehdi, 2188585"
      ]
    },
    {
      "cell_type": "markdown",
      "metadata": {
        "id": "8qxE9PQv4VED"
      },
      "source": [
        "Note finale :"
      ]
    },
    {
      "cell_type": "markdown",
      "metadata": {
        "id": "RVy6NlzE4VED"
      },
      "source": [
        " <u>**Date limite de remise :**</u>  11 novembre 23h59 (Groupe B1), 4 novembre 23h59 (Groupe B2)"
      ]
    },
    {
      "cell_type": "markdown",
      "metadata": {
        "id": "4QxjbfJj4VEE"
      },
      "source": [
        "# Instructions\n",
        "\n",
        "## Rédaction et remise du rapport\n",
        "\n",
        "- Ce notebook constitue à la fois le sujet du TP, votre code et votre rapport. Il contient déjà du code pour faciliter vos mesures et l'affichage de vos résultats, ainsi qu'un squelette pour votre rapport.\n",
        "\n",
        "- Complétez directement le notebook, vous êtes libres de créer de nouvelles cellules de code ou de texte.\n",
        "\n",
        "- Remettez le fichier du notebook sur Moodle avec le nom `NOM1_MATRICULE1_NOM2_MATRICULE2.ipynb`\n",
        "\n",
        "- Vous pouvez inclure du code trouvé sur Internet, mais vous devez en mentionner la source, sous peine d'être sanctionnés pour plagiat.  Cela s'applique aussi au niveau de l'IA générative pour le code. Par contre, vous devez être capable d'accomplir les analyses par vous-même. Vous ne pouvez pas utiliser l'IA pour ces sections.\n",
        "## Mise en situation\n",
        "\n",
        "Ce travail pratique se répartit sur deux séances de laboratoire et porte sur l'analyse et la conception d'algorithmes développés suivant différents patrons de conception afin de résoudre une version simplifiée d'un problème réaliste d'optimisation.\n",
        "\n",
        "\n",
        "## Description du problème\n",
        "\n",
        "Un pianiste souhaite jouer une mélodie donnée par une partition. La mélodie est une suite de n notes *(a0, a1, ... , an-1)* où chaque ai appartient à un ensemble de m notes numérotées de 0 à m-1.\n",
        "\n",
        "Le pianiste peut choisir de jouer chaque note avec l’un de ses D doigts. Le passage de la note i1 jouée avec le doigt d1 à la note i2 jouée avec le doigt d2 est pénalisée par une fonction de difficulté de la transition *C(i1, d1, i2, d2)*. Notre pianiste souhaite donc déterminer avec quel doigt il doit jouer chaque note de la mélodie de façon à minimiser la somme des coûts de chaque transition.\n",
        "\n",
        "Pour la partie empirique de ce TP, nous nous limiterons à des mélodies jouées à une main (D=5) sur deux octaves (m=24).\n",
        "\n",
        "Soit l’exemple suivant avec 5 notes :\n",
        "\n",
        "- L'exemplaire est : `[17, 21, 18, 2, 21, 15, 11, 16]`\n",
        "- La solution est : `[2, 1, 1, 0, 1, 1, 2, 1]`\n",
        "\n",
        "La figure ci-dessous représente la partition avec ça solution et le coût associé à chaque transition."
      ]
    },
    {
      "cell_type": "markdown",
      "metadata": {
        "id": "3oMLhlHm4VEE"
      },
      "source": [
        "![alt text](example_solution.png \"Title\")"
      ]
    },
    {
      "cell_type": "markdown",
      "metadata": {
        "id": "oYKOIq3O4VEF"
      },
      "source": [
        "## Algorithmes à implanter\n",
        "\n",
        "Trois algorithmes seront implantés, mettant en pratique des patrons de conception différents :\n",
        "\n",
        "1. Un algorithme glouton\n",
        "2. Un algorithme de programmation dynamique\n",
        "3. Un algorithme de recherche locale"
      ]
    },
    {
      "cell_type": "markdown",
      "metadata": {
        "id": "W3B3ee6-4VEF"
      },
      "source": [
        "\n",
        "## Jeu de données\n",
        "\n",
        "La fonction `generate_sample` ci-dessous permet de générer un exemplaire d'une taille donnée.\n",
        "\n",
        "La fonction `get_dataset` permet de récupérer un dataset pour la liste de taille fournie. Elle prend également en entrée un graine aléatoire pour générer le dataset en question.\n",
        "\n",
        "Afin que chaque groupe travaille avec un set différent, mais que vos propres expériences soient reproductibles, entrez l'un de vous matricule comme graine aléatoire dans la cellule ci-dessous.\n",
        "\n",
        "Vous êtes bien entendu libres de tester et mesurer vos algorithme sur le même dataset qu'un autre groupe. Pour cela, générez simplement un dataset avec la même graine et la même liste de taille.\n",
        "\n"
      ]
    },
    {
      "cell_type": "code",
      "execution_count": 2,
      "metadata": {},
      "outputs": [
        {
          "name": "stdout",
          "output_type": "stream",
          "text": [
            "Requirement already satisfied: numpy in /home/mehdiben/Documents/Ecole/A2025/algo/INF8775/.venv/lib/python3.12/site-packages (2.3.2)\n",
            "Requirement already satisfied: matplotlib in /home/mehdiben/Documents/Ecole/A2025/algo/INF8775/.venv/lib/python3.12/site-packages (3.10.6)\n",
            "Requirement already satisfied: scipy in /home/mehdiben/Documents/Ecole/A2025/algo/INF8775/.venv/lib/python3.12/site-packages (1.16.2)\n",
            "Requirement already satisfied: contourpy>=1.0.1 in /home/mehdiben/Documents/Ecole/A2025/algo/INF8775/.venv/lib/python3.12/site-packages (from matplotlib) (1.3.3)\n",
            "Requirement already satisfied: cycler>=0.10 in /home/mehdiben/Documents/Ecole/A2025/algo/INF8775/.venv/lib/python3.12/site-packages (from matplotlib) (0.12.1)\n",
            "Requirement already satisfied: fonttools>=4.22.0 in /home/mehdiben/Documents/Ecole/A2025/algo/INF8775/.venv/lib/python3.12/site-packages (from matplotlib) (4.59.2)\n",
            "Requirement already satisfied: kiwisolver>=1.3.1 in /home/mehdiben/Documents/Ecole/A2025/algo/INF8775/.venv/lib/python3.12/site-packages (from matplotlib) (1.4.9)\n",
            "Requirement already satisfied: packaging>=20.0 in /home/mehdiben/Documents/Ecole/A2025/algo/INF8775/.venv/lib/python3.12/site-packages (from matplotlib) (25.0)\n",
            "Requirement already satisfied: pillow>=8 in /home/mehdiben/Documents/Ecole/A2025/algo/INF8775/.venv/lib/python3.12/site-packages (from matplotlib) (11.3.0)\n",
            "Requirement already satisfied: pyparsing>=2.3.1 in /home/mehdiben/Documents/Ecole/A2025/algo/INF8775/.venv/lib/python3.12/site-packages (from matplotlib) (3.2.3)\n",
            "Requirement already satisfied: python-dateutil>=2.7 in /home/mehdiben/Documents/Ecole/A2025/algo/INF8775/.venv/lib/python3.12/site-packages (from matplotlib) (2.9.0.post0)\n",
            "Requirement already satisfied: six>=1.5 in /home/mehdiben/Documents/Ecole/A2025/algo/INF8775/.venv/lib/python3.12/site-packages (from python-dateutil>=2.7->matplotlib) (1.17.0)\n"
          ]
        }
      ],
      "source": [
        "!pip install numpy matplotlib scipy"
      ]
    },
    {
      "cell_type": "code",
      "execution_count": 3,
      "metadata": {
        "id": "MJrA-cbF4VEG"
      },
      "outputs": [],
      "source": [
        "import numpy as np\n",
        "import matplotlib.pyplot as plt\n",
        "from matplotlib.ticker import MaxNLocator\n",
        "from scipy.stats import linregress\n",
        "import time\n",
        "from collections.abc import Callable"
      ]
    },
    {
      "cell_type": "code",
      "execution_count": 4,
      "metadata": {
        "id": "my8n-DN34VEG"
      },
      "outputs": [],
      "source": [
        "def visualize_solution(costs, partition, solution):\n",
        "    \"\"\"\n",
        "    Visualisez votre solution et les coûts associés.\n",
        "    \"\"\"\n",
        "    # Create a figure and axis\n",
        "    _, ax = plt.subplots()\n",
        "\n",
        "    # Plot the notes as circles with their sizes proportional to the partition values\n",
        "    for i in range(len(partition)):\n",
        "        ax.scatter([i], [partition[i]], marker='o')\n",
        "        ax.text(i, partition[i] + 0.2, str(solution[i]), ha='center', va='bottom')\n",
        "\n",
        "    # Set the limits for the axes to fit the plot\n",
        "    ax.set_ylim(min(partition) - 1, max(partition) + 1)\n",
        "    ax.set_xlim(-0.5, len(partition)-0.5)\n",
        "\n",
        "    # Label the axes\n",
        "    ax.set_xlabel('Partition')\n",
        "    ax.set_ylabel('Note')\n",
        "    ax.yaxis.set_major_locator(MaxNLocator(integer=True))\n",
        "\n",
        "    # Title the plot\n",
        "    ax.set_title('Partition et doigts utilisés')\n",
        "\n",
        "    plot_costs = getCosts(costs, partition, solution).tolist()\n",
        "    plot_costs.append(0)\n",
        "\n",
        "    ax2 = ax.twinx()\n",
        "    ax2.bar(range(len(partition)), plot_costs, width=1, alpha=0.5, align='edge', color='gray')\n",
        "    ax2.set_xlim(-0.5, len(partition)-0.5)\n",
        "    ax2.set_ylim(0, 100)\n",
        "\n",
        "    # Remove the ticks and tick labels from the secondary y-axis\n",
        "    ax2.tick_params(axis='both', which='both', length=0)\n",
        "    ax2.set_yticklabels([])\n",
        "    ax2.spines['top'].set_visible(False)\n",
        "    ax2.spines['right'].set_visible(False)\n",
        "    ax2.spines['bottom'].set_visible(False)\n",
        "    ax2.spines['left'].set_visible(False)\n",
        "    # Show the plot\n",
        "    plt.show()\n",
        "\n",
        "def generate_sample(size, maxValue=24):\n",
        "    return np.random.randint(0, maxValue, size).tolist()\n",
        "\n",
        "def get_dataset(seed, sizes, nbSamples=5):\n",
        "    np.random.seed(seed)\n",
        "    return { size: [generate_sample(size) for _ in range(nbSamples)]\n",
        "        for size in sizes }\n",
        "\n",
        "def readFile(filePath):\n",
        "    \"\"\"\n",
        "    Charger une partition depuis un fichier\n",
        "    \"\"\"\n",
        "    f = open(filePath)\n",
        "    N = int(f.readline())\n",
        "    partition = list(map(int, f.readline().split(' ')))\n",
        "    f.close()\n",
        "    return partition\n",
        "\n",
        "def getCosts(costs, partition, solution):\n",
        "    \"\"\"\n",
        "    Liste des coûts associés à chaque transition de votre solution.\n",
        "    \"\"\"\n",
        "    prevNotes, nextNotes = partition[:-1], partition[1:]\n",
        "    prevFingers, nextFingers = solution[:-1], solution[1:]\n",
        "    return costs[prevNotes, prevFingers, nextNotes, nextFingers]\n",
        "\n",
        "def getTotalCost(costs, partition, solution):\n",
        "    \"\"\"\n",
        "    Coût total de votre solution\n",
        "    \"\"\"\n",
        "    return np.sum(getCosts(costs, partition, solution))"
      ]
    },
    {
      "cell_type": "markdown",
      "metadata": {
        "id": "6Uq8HA064VEH"
      },
      "source": [
        "Exécutez la cellule suivante afin d'obtenir le tenseur des coûts associé à chaque transition."
      ]
    },
    {
      "cell_type": "code",
      "execution_count": 5,
      "metadata": {
        "id": "oo4Bbqip4VEH"
      },
      "outputs": [],
      "source": [
        "load_file = np.loadtxt('cout_transition.txt', dtype=int)\n",
        "costs = load_file.reshape((24, 5, 24, 5))\n",
        "D = 5    # Nombre de doigts\n",
        "M = 24   # Etendue des notes (2 octaves)\n",
        "\n",
        "partition = readFile('Chansons/twinkle_twinkle.txt')"
      ]
    },
    {
      "cell_type": "markdown",
      "metadata": {
        "id": "XrNejSRK4VEH"
      },
      "source": [
        "# Implantations et expérimentations"
      ]
    },
    {
      "cell_type": "markdown",
      "metadata": {
        "id": "lAuNtB784VEH"
      },
      "source": [
        "Ces fonctions auxiliaires vous sont fournies pour vérifier l'exactitude des vos algorithmes, mesurer leurs performance et afficher vos résultats.\n",
        "\n",
        "Il est recommandé de prendre le temps de lire et comprendre le code.\n",
        "\n",
        "Exécutez la cellule ci-dessous pour pouvoir utiliser les fonctions auxiliaires."
      ]
    },
    {
      "cell_type": "code",
      "execution_count": 6,
      "metadata": {
        "id": "zhEC7jRx4VEI"
      },
      "outputs": [],
      "source": [
        "class Measure():\n",
        "    \"\"\"A wrapper to contain information on taken measures\"\"\"\n",
        "    def __init__(self, size: int, mean: int, score: int) -> None:\n",
        "        self.size = size\n",
        "        self.mean_score = score\n",
        "        self.mean = mean\n",
        "\n",
        "def is_valid_solution(original: list[int], solution: list[int]) -> bool:\n",
        "    \"\"\"Validates solution\"\"\"\n",
        "\n",
        "    n = len(original)\n",
        "\n",
        "    if len(solution)!=n:\n",
        "      return False\n",
        "\n",
        "    for i in range(n):\n",
        "        if solution[i]<0 or solution[i]>=D:\n",
        "            return False\n",
        "\n",
        "    # Solution is valid\n",
        "    return True\n",
        "\n",
        "def measure(procedure: Callable, sample: list[int], costs,  time_scale: int) -> int:\n",
        "    \"\"\"Returns the time in milliseconds taken to run the procedure.\n",
        "\n",
        "    Raises:\n",
        "        InvalidSolution: If the procedure returns an invalid solution, raises an exception.\n",
        "    \"\"\"\n",
        "    start: int = time.time() * time_scale\n",
        "    solution: list[int] = procedure(sample)\n",
        "    end: int = time.time() * time_scale\n",
        "    if not is_valid_solution(sample, solution):\n",
        "        raise InvalidSolution()\n",
        "    score = getTotalCost(costs, sample, solution)\n",
        "    return (round(end - start), score)\n",
        "\n",
        "\n",
        "def measure_mean(procedure: Callable, samples: list[list[int]], size: int, costs, time_scale: int) -> Measure:\n",
        "    \"\"\"Generates multiple samples with the specified parameters and returns the mean time in milliseconds\n",
        "\n",
        "    Raises:\n",
        "        InvalidSolution: If one of the samples results in an invalid solution.\n",
        "    \"\"\"\n",
        "    results=[measure(procedure, sample, costs, time_scale) for sample in samples]\n",
        "    mean_time = sum(\n",
        "        [result[0] for result in results]\n",
        "    ) / size\n",
        "    mean_score = sum(\n",
        "        [result[1] for result in results]\n",
        "    ) / size\n",
        "    return Measure(size, mean_time, mean_score)\n",
        "\n",
        "def measure_procedure(procedure: Callable, dataset: list[list[list[int]]], costs,  time_scale: int = 1000) -> list[Measure]:\n",
        "    \"\"\"Measures the mean time taken in milliseconds for each size in the given list.\n",
        "\n",
        "    Raises:\n",
        "        InvalidSolution: If one of the samples results in an invalid solution.\n",
        "\n",
        "    Returns:\n",
        "        A list of Measure instances containing the specifications\n",
        "        of the problem as well as the mean time.\n",
        "    \"\"\"\n",
        "    return [\n",
        "        measure_mean(procedure, samples, size, costs, time_scale)\n",
        "        for size, samples in dataset.items()\n",
        "    ]\n",
        "\n",
        "\n",
        "def display_measures_table(measures: list[Measure]):\n",
        "    \"\"\"Prints a table with the data in the given list of measures\"\"\"\n",
        "    print(\"{: <16} {: <16} {: <16}\".format(\"Taille\", \"Temps moyen\", \"Score moyen\"))\n",
        "    for measure in measures:\n",
        "        print(\"{: <16} {: <16} {: <16}\".format(measure.size, measure.mean, measure.mean_score))\n",
        "\n",
        "def display_test_puissance(vals, title=\"Test de puissance\"):\n",
        "    x = list(vals.keys())\n",
        "    y = list(vals.values())\n",
        "\n",
        "    # Perform linear regression\n",
        "    m, b, rvalue, _, _ = linregress(x, y)\n",
        "    r = list(map(lambda x : m*x + b, x))\n",
        "\n",
        "    # Create the line equation\n",
        "    line_eq = f\"y = {m:.2f}x + {b:.2f}\"\n",
        "\n",
        "    # Plot the points\n",
        "    plt.scatter(x, y, label='Mesures')\n",
        "\n",
        "    # Plot the regression line\n",
        "    plt.plot(x, r, color=\"red\", label=f'Regression linéaire R²={round(rvalue**2,4)}')\n",
        "\n",
        "    # Add labels and title\n",
        "    plt.xlabel('log Taille')\n",
        "    plt.ylabel('log Temps')\n",
        "    plt.title(title)\n",
        "\n",
        "    # Add legend\n",
        "    plt.legend(bbox_to_anchor=(0.60, 0), loc='lower left')\n",
        "\n",
        "    # Display the line equation\n",
        "    plt.text(min(x), max(y), line_eq)\n",
        "\n",
        "    # Show the plot\n",
        "    plt.show()\n",
        "\n",
        "def display_test_rapport(vals, title=\"Test du rapport\"):\n",
        "    x = list(vals.keys())\n",
        "    y = list(vals.values())\n",
        "\n",
        "    plt.plot(x, y, label='Mesures')\n",
        "    plt.scatter(x, y, label='Mesures')\n",
        "\n",
        "    # Add labels and title\n",
        "    plt.xlabel('Taille')\n",
        "    plt.ylabel('Temps / f(taille)')\n",
        "    plt.title(title)\n",
        "    plt.show()\n",
        "\n",
        "\n",
        "def display_test_constantes(vals, title=\"Test des constantes\"):\n",
        "    x = list(vals.keys())\n",
        "    y = list(vals.values())\n",
        "\n",
        "    # Perform linear regression\n",
        "    m, b, rvalue, _, _ = linregress(x, y)\n",
        "\n",
        "    r = list(map(lambda x : m*x + b, x))\n",
        "\n",
        "    # Create the line equation\n",
        "    line_eq = f\"y = {m:.2E}x + {b:.2E}\"\n",
        "\n",
        "    # Plot the points\n",
        "    plt.scatter(x, y, label='Mesures')\n",
        "\n",
        "    # Plot the regression line\n",
        "    plt.plot(x, r, color=\"red\", label=f'Regression linéaire R²={round(rvalue**2,4)}')\n",
        "\n",
        "    # Add labels and title\n",
        "    plt.xlabel('f(Taille)')\n",
        "    plt.ylabel('Temps')\n",
        "    plt.title(title)\n",
        "\n",
        "    # Add legend\n",
        "    plt.legend(bbox_to_anchor=(0.60, 0), loc='lower left')\n",
        "\n",
        "    # Display the line equation\n",
        "    plt.text(min(x), max(y), line_eq)\n",
        "\n",
        "    # Show the plot\n",
        "    plt.show()"
      ]
    },
    {
      "cell_type": "markdown",
      "metadata": {
        "id": "dAS7YO_64VEI"
      },
      "source": [
        "## Partie 1 : Algorithme glouton (6 points)"
      ]
    },
    {
      "cell_type": "markdown",
      "metadata": {
        "id": "4FsIJKYk4VEI"
      },
      "source": [
        "Implantez un algorithme suivant le patron de conception glouton.\n",
        "\n",
        "L'algorithme glouton fait son choix en fonction du coût de la prochaine transition :\n",
        "\n",
        "Les deux premiers doigts d0 et d1 sont choisis de façon à minimiser C(a0, d0, a1, d1). Puis, étant donné le\n",
        "doigt précédent d et la transition de la note i vers la note j, le choix glouton porte sur le doigt d’ qui\n",
        "minimise C(i, d, j, d’).\n",
        "\n",
        "Tentez de rendre votre implantation la plus performante possible en évitant des calculs inutiles."
      ]
    },
    {
      "cell_type": "code",
      "execution_count": 9,
      "metadata": {
        "collapsed": true,
        "id": "S6Uzl4on4VEI"
      },
      "outputs": [
        {
          "name": "stdout",
          "output_type": "stream",
          "text": [
            "Coût Glouton : 143\n"
          ]
        },
        {
          "data": {
            "image/png": "[encoded data removed]",
            "text/plain": [
              "<Figure size 640x480 with 2 Axes>"
            ]
          },
          "metadata": {},
          "output_type": "display_data"
        },
        {
          "name": "stdout",
          "output_type": "stream",
          "text": [
            "La solution gloutonne est valide.\n"
          ]
        }
      ],
      "source": [
        "def greedy_choice(current_note: int, next_note: int, previous_finger: int, nb_available_fingers: int) -> int:\n",
        "    lowest_cost = float('inf')\n",
        "    current_best_finger = 0\n",
        "\n",
        "    for finger in range(nb_available_fingers):\n",
        "        cost = getCosts(costs, [current_note, next_note], [previous_finger, finger])[0]\n",
        "        if cost < lowest_cost:\n",
        "            lowest_cost = cost\n",
        "            current_best_finger = finger\n",
        "\n",
        "    return current_best_finger\n",
        "                  \n",
        "def glouton(partition):\n",
        "    partition_length = len(partition)\n",
        "    if partition_length == 0: return []\n",
        "\n",
        "    solution = [0 for _ in range(partition_length)]\n",
        "\n",
        "    lowest_cost = float('inf')\n",
        "    best_first_finger, best_second_finger = 0, 0\n",
        "\n",
        "    for first_finger in range(D):\n",
        "        for second_finger in range(D):\n",
        "            cost = getCosts(costs, partition[:2], [first_finger, second_finger])[0]\n",
        "            if cost < lowest_cost:\n",
        "                lowest_cost = cost\n",
        "                best_first_finger, best_second_finger = first_finger, second_finger\n",
        "\n",
        "    solution[0], solution[1] = best_first_finger, best_second_finger\n",
        "\n",
        "    for i in range(2, partition_length):\n",
        "        solution[i] = greedy_choice(partition[i-1], partition[i], solution[i-1], D)\n",
        "\n",
        "    return solution\n",
        "\n",
        "solutionGlouton = glouton(partition)\n",
        "print(\"Coût Glouton :\", getTotalCost(costs, partition, solutionGlouton))\n",
        "visualize_solution(costs, partition, solutionGlouton)\n",
        "\n",
        "if is_valid_solution(partition, solutionGlouton):\n",
        "    print(\"La solution gloutonne est valide.\")\n",
        "else:\n",
        "    print(\"La solution gloutonne n'est pas valide.\")"
      ]
    },
    {
      "cell_type": "markdown",
      "metadata": {
        "id": "BLm1kbXw4VEI"
      },
      "source": [
        "### Analyse asymptotique\n",
        "\n",
        "Dans cette analyse, vous tiendrez compte à la fois de la longueur de la mélodie mais également du\n",
        "nombre de doigts pour chacun des trois algorithmes."
      ]
    },
    {
      "cell_type": "markdown",
      "metadata": {
        "id": "vNhM5vXo4VEI"
      },
      "source": [
        "*Insérer votre réponse ici*"
      ]
    },
    {
      "cell_type": "markdown",
      "metadata": {
        "id": "guPZ6SGg4VEJ"
      },
      "source": [
        "### Mesures\n",
        "\n",
        "Rapportez dans un tableau les temps d'exécutions moyens avec les fonctions auxiliaires `measure_procedure` et `display_measure_table`"
      ]
    },
    {
      "cell_type": "code",
      "execution_count": 29,
      "metadata": {
        "id": "YbDQpCpDHMq6"
      },
      "outputs": [
        {
          "name": "stdout",
          "output_type": "stream",
          "text": [
            "Taille           Temps moyen      Score moyen     \n",
            "50000            0.21376          148.58844       \n",
            "100000           0.21839          148.99827       \n",
            "150000           0.22336          148.67055333333334\n",
            "200000           0.216615         149.41665       \n",
            "250000           0.2158           148.811928      \n",
            "300000           0.21888          149.07573666666667\n",
            "350000           0.22207428571428572 149.08432       \n",
            "400000           0.223865         148.77725       \n",
            "450000           0.22328444444444445 149.00426666666667\n"
          ]
        }
      ],
      "source": [
        "matricule = 2188585\n",
        "dataset = get_dataset(seed=matricule, sizes=[n * 50_000 for n in range(1, 10)], nbSamples=10)\n",
        "measures_glouton = measure_procedure(glouton, dataset, costs)\n",
        "display_measures_table(measures_glouton)"
      ]
    },
    {
      "cell_type": "markdown",
      "metadata": {
        "id": "Dqi5cLP-4VEJ"
      },
      "source": [
        "### Validation empirique\n",
        "\n",
        "Servez-vous de vos temps d'exécution pour confirmer et/ou préciser l'analyse asymptotique théorique de vos algorithmes avec la méthode hybride de votre choix.\n",
        "\n",
        "La méthode peut varier d'un algorithme à l'autre. Justifiez les choix ici et avec des graphiques."
      ]
    },
    {
      "cell_type": "code",
      "execution_count": 30,
      "metadata": {
        "id": "F7Htwsc54VEJ"
      },
      "outputs": [
        {
          "data": {
            "image/png": "[encoded data removed]",
            "text/plain": [
              "<Figure size 640x480 with 1 Axes>"
            ]
          },
          "metadata": {},
          "output_type": "display_data"
        }
      ],
      "source": [
        "import math\n",
        "def values_test_puissance(measures):\n",
        "    return {\n",
        "        math.log(measure.size): math.log(measure.mean)\n",
        "        for measure in measures\n",
        "        }\n",
        "display_test_puissance(values_test_puissance(measures_glouton), title=\"Test de puissance - Glouton\")"
      ]
    },
    {
      "cell_type": "markdown",
      "metadata": {
        "id": "zrTlGN5k4VEJ"
      },
      "source": [
        "*Insérer votre réponse ici*"
      ]
    },
    {
      "cell_type": "markdown",
      "metadata": {
        "id": "Mm4m4nBg4VEJ"
      },
      "source": [
        "## Partie 2 : Algorithme de programmation dynamique (6 points)"
      ]
    },
    {
      "cell_type": "markdown",
      "metadata": {
        "id": "FqZGtCM84VEJ"
      },
      "source": [
        "L'algorithme de programmation dynamique remplit un tableau des coûts de transition optimaux en\n",
        "fonction de la mélodie.\n",
        "\n",
        "Notons `J(k, d)` la somme minimale des coût de transition associée à la mélodie `(ak, ... , an−1)` (c’est-à-\n",
        "dire au suffixe de longueur `n - k` de la mélodie de départ) où l’on joue la première note ak avec le doigt\n",
        "d.\n",
        "\n",
        "Alors, J vérifie la relation de récurrence (1) :\n",
        "\n",
        "J(k, d) = min { 0≤ d’ ≤ D-1} [ C(ak, d, ak+1, d’ ) + J(k + 1, d’ ) ]\n",
        "\n",
        "et la condition terminale (2) :\n",
        "\n",
        "J(n - 1, d) = 0, ∀d = 0, ... , D - 1\n",
        "\n",
        "Comme on ne connaît pas le premier doigt à utiliser a priori, la solution au problème original est\n",
        "donnée par (3) :\n",
        "\n",
        "min { 0 ≤ d ≤ D-1} J(0, d)\n",
        "\n",
        "Cette récurrence est résolue par programmation dynamique pour déterminer la solution au problème.\n",
        "Note : Pour vous aider à vérifier que votre implantation fonctionne correctement, voici deux solutions\n",
        "que vous devriez obtenir avec cet algorithme (dépendant de votre implantation, il pourrait être possible\n",
        "que vous arriviez au même coût, mais avec une différente suite de doigts) :\n",
        "\n",
        "- twinkle_twinkle.txt ; coût = 31; doigts = [0, 0, 4, 3, 4, 4, 3, 2, 2, 1, 1, 0, 1, 0, 4, 4, 3, 3, 2, 2, 0, 4, 4, 3,\n",
        "3, 2, 2, 1, 0, 0, 4, 3, 4, 4, 3, 2, 2, 1, 1, 0, 1, 0]\n",
        "\n",
        "- fur_elise.txt ; coût = 1091; doigts = [1, 0, 1, 0, 1, 0, 4, 4, 4, 0, 1, 4, 4, 0, 1, 3, 4, 0, 4, 0, 1, 0, 1, 0, 4, 4,\n",
        "4, 0, 1, 4, 4, 0, 4, 3, 0, 4, 0, 1, 0, 1, 0, 4, 4, 4, 0, 1, 4, 4, 0, 1, 3, 4, 0, 4, 0, 1, 0, 1, 0, 4, 4, 4, 0, 1, 4, 4, 0,4, 3, 0, 1, 2, 3, 4, 0, 4, 4, 4, 0, 4, 4, 4, 0, 4, 3, 3, 3, 4, 0, 1, 0, 1, 0, 1, 0, 4, 4, 4, 0, 1, 4, 0, 1, 3, 4, 0, 4, 0,\n",
        "1, 0, 1, 0, 4, 4, 4, 0, 1, 4, 4, 0, 4, 3, 0, 1, 2, 3, 4, 0, 4, 4, 4, 0, 4, 4, 4, 0, 4, 3, 3, 3, 4, 0, 1, 0, 1, 0, 1, 0, 4,\n",
        "4, 4, 0, 1, 4, 0, 1, 3, 4, 0, 4, 0, 1, 0, 1, 0, 4, 4, 4, 0, 1, 4, 4, 0, 4, 3, 2, 0, 1, 2, 0, 1, 0, 2, 1, 1, 0, 4, 4, 4, 3,\n",
        "2, 1, 0, 1, 0, 0, 2, 1, 0, 0, 1, 2, 3, 3, 4, 3, 4, 0, 1, 2, 0, 0, 4, 0, 4, 0, 4, 0, 4, 0, 4, 0, 1, 0, 4, 4, 4, 4, 3, 2, 1,\n",
        "0, 4, 3, 1, 0, 4, 0, 4, 0, 4, 0, 4, 0, 4, 0, 1, 0, 4, 4, 4, 4, 3, 2, 1, 0, 2, 1, 0, 1, 2, 1, 0, 1, 0, 1, 0, 1, 0, 1, 0, 1,\n",
        "0, 1, 0, 1, 0, 1, 0, 1, 0, 1, 0, 1, 0, 1, 0, 1, 0, 4, 4, 4, 0, 1, 4, 4, 0, 1, 3, 4, 0, 4, 0, 1, 0, 1, 0, 4, 4, 4, 0, 1, 4,\n",
        "4, 0, 4, 3, 0, 1, 2, 3, 4, 0, 4, 4, 4, 0, 4, 4, 4, 0, 4, 4, 4, 0, 4, 4, 4, 4]\n",
        "\n",
        "Implantez l'algorithme de programmation dynamique."
      ]
    },
    {
      "cell_type": "code",
      "execution_count": null,
      "metadata": {
        "id": "Nu9Iden74VEJ"
      },
      "outputs": [],
      "source": [
        "def progDyn(partition):\n",
        "    solution = [0 for i in range(len(partition))]\n",
        "    return solution\n",
        "\n",
        "solutionDyn = progDyn(partition)\n",
        "print(\"Coût Programmation Dynamique :\", getTotalCost(costs, partition, solutionDyn))\n",
        "visualize_solution(costs, partition, solutionDyn)"
      ]
    },
    {
      "cell_type": "markdown",
      "metadata": {
        "id": "sLlqux4w4VEK"
      },
      "source": [
        "### Analyse asymptotique\n",
        "\n",
        "Dans cette analyse, vous tiendrez compte à la fois de la longueur de la mélodie mais également du\n",
        "nombre de doigts pour chacun des trois algorithmes."
      ]
    },
    {
      "cell_type": "markdown",
      "metadata": {
        "id": "mKy777EP4VEK"
      },
      "source": [
        "*Insérer votre réponse ici*"
      ]
    },
    {
      "cell_type": "markdown",
      "metadata": {
        "id": "rSRd68TM4VEK"
      },
      "source": [
        "### Mesures\n",
        "\n",
        "Rapportez dans un tableau les temps d'exécutions moyens avec les fonctions auxiliaires `measure_procedure` et `display_measure_table`"
      ]
    },
    {
      "cell_type": "code",
      "execution_count": null,
      "metadata": {
        "id": "XK_MrZDS4VEK"
      },
      "outputs": [],
      "source": []
    },
    {
      "cell_type": "markdown",
      "metadata": {
        "id": "FOWt-ejC4VEK"
      },
      "source": [
        "### Validation empirique\n",
        "\n",
        "Servez-vous de vos temps d'exécution pour confirmer et/ou préciser l'analyse asymptotique théorique de vos algorithmes avec la méthode hybride de votre choix.\n",
        "\n",
        "La méthode peut varier d'un algorithme à l'autre. Justifiez les choix ici et avec des graphiques."
      ]
    },
    {
      "cell_type": "code",
      "execution_count": null,
      "metadata": {
        "id": "-FdUfF5N4VEK"
      },
      "outputs": [],
      "source": []
    },
    {
      "cell_type": "markdown",
      "metadata": {
        "id": "Cz38SzVD4VEK"
      },
      "source": [
        "*Insérer votre réponse ici*"
      ]
    },
    {
      "cell_type": "markdown",
      "metadata": {
        "id": "aQj4KCGZ4VEK"
      },
      "source": [
        "## Partie 3 : Algorithme de recherche locale (6 points)"
      ]
    },
    {
      "cell_type": "markdown",
      "metadata": {
        "id": "TYv5l5RF4VEL"
      },
      "source": [
        "Cet algorithme explore le voisinage de solutions non optimales. En partant d’une solution gloutonne, la\n",
        "solution est améliorée en tentant d’échanger un doigt pour un autre sur une note. Vous pourrez prendre\n",
        "comme critère d’arrêt un nombre maximal d’itérations."
      ]
    },
    {
      "cell_type": "code",
      "execution_count": null,
      "metadata": {
        "id": "utd5owVq4VEL"
      },
      "outputs": [],
      "source": [
        "def localSearch(partition):\n",
        "    solution = [0 for i in range(len(partition))]\n",
        "    return solution\n",
        "\n",
        "solutionLocal = localSearch(partition)\n",
        "print(\"Coût Recherche Locale :\", getTotalCost(costs, partition, solutionLocal))\n",
        "visualize_solution(costs, partition, solutionLocal)"
      ]
    },
    {
      "cell_type": "markdown",
      "metadata": {
        "id": "9bLDkW6S4VEL"
      },
      "source": [
        "### Analyse asymptotique\n",
        "\n",
        "Dans cette analyse, vous tiendrez compte à la fois de la longueur de la mélodie mais également du\n",
        "nombre de doigts pour chacun des trois algorithmes."
      ]
    },
    {
      "cell_type": "markdown",
      "metadata": {
        "id": "qk-YDf4n4VEU"
      },
      "source": [
        "*Insérer votre réponse ici*"
      ]
    },
    {
      "cell_type": "markdown",
      "metadata": {
        "id": "-OVlwc0O4VEU"
      },
      "source": [
        "### Mesures\n",
        "\n",
        "Rapportez dans un tableau les temps d'exécutions moyens avec les fonctions auxiliaires `measure_procedure` et `display_measure_table`"
      ]
    },
    {
      "cell_type": "code",
      "execution_count": null,
      "metadata": {
        "id": "lCIH0Z_R4VEU"
      },
      "outputs": [],
      "source": []
    },
    {
      "cell_type": "markdown",
      "metadata": {
        "id": "K0aFSeu64VEU"
      },
      "source": [
        "### Validation empirique\n",
        "\n",
        "Servez-vous de vos temps d'exécution pour confirmer et/ou préciser l'analyse asymptotique théorique de vos algorithmes avec la méthode hybride de votre choix.\n",
        "\n",
        "La méthode peut varier d'un algorithme à l'autre. Justifiez les choix ici et avec des graphiques."
      ]
    },
    {
      "cell_type": "code",
      "execution_count": null,
      "metadata": {
        "id": "s9K-zG-y4VEU"
      },
      "outputs": [],
      "source": []
    },
    {
      "cell_type": "markdown",
      "metadata": {
        "id": "oWsKlKsy4VEU"
      },
      "source": [
        "*Insérer votre réponse ici*"
      ]
    },
    {
      "cell_type": "markdown",
      "metadata": {
        "id": "uabD5k69EKnb"
      },
      "source": [
        "# Évaluation de la consommation énergétique (1 point)\n",
        "\n",
        "Dans le cadre de ce TP, nous voulons vous sensibiliser à la consommation énergétique de vos algorithmes. Pour ce faire, nous vous fournissons une librairie que vous pouvez utiliser pour évaluer l'énergie nécessaire à la complétion de votre algorithme (https://mlco2.github.io/codecarbon/). Appelez chacun de vos algorithmes ci-bas avec les mêmes exemplaires et comparez le résultat obtenu par chacun."
      ]
    },
    {
      "cell_type": "code",
      "execution_count": null,
      "metadata": {
        "id": "Eg9dUJzEER3G"
      },
      "outputs": [],
      "source": [
        "#Commande pour installer la librairie\n",
        "#!pip install codecarbon\n",
        "\n",
        "from codecarbon import EmissionsTracker\n",
        "try:\n",
        "    tracker = EmissionsTracker(measure_power_secs=5, tracking_mode=\"process\")\n",
        "\n",
        "    tracker.start_task(\"glouton\")\n",
        "    # TODO Appel glouton\n",
        "    tracker.stop_task()\n",
        "\n",
        "    tracker.start_task(\"dynamic\")\n",
        "    # TODO Appel dynamique\n",
        "    tracker.stop_task()\n",
        "\n",
        "    tracker.start_task(\"recherche\")\n",
        "    # TODO Appel recherche\n",
        "    tracker.stop_task()\n",
        "finally:\n",
        "    _ = tracker.stop()"
      ]
    },
    {
      "cell_type": "markdown",
      "metadata": {
        "id": "pFTOHFg9Edo8"
      },
      "source": [
        "Les résultats de l'exécution du code ci-haut devraient apparaître dans un fichier csv. Commentez les résultats obtenus. Vous pouvez trouver une explication de la sortie dans la documentation qui est présente au lien ci-haut."
      ]
    },
    {
      "cell_type": "markdown",
      "metadata": {
        "id": "rBiAxGhzEfe9"
      },
      "source": [
        "*Insérer votre réponse ici*"
      ]
    },
    {
      "cell_type": "markdown",
      "metadata": {
        "id": "Av5CEYeu4VEU"
      },
      "source": [
        "# Conclusion et synthèse (2 points)\n",
        "\n",
        "Résumez succintement vos résultats et analyses, en mettant en évidences les forces et faiblesses de chacun des algorithmes. Indiquez sous quelles conditions vous utiliseriez chacun d'eux."
      ]
    },
    {
      "cell_type": "markdown",
      "metadata": {
        "id": "LzB-iLW-4VEV"
      },
      "source": [
        "*Insérer votre réponse ici*"
      ]
    }
  ],
  "metadata": {
    "colab": {
      "provenance": []
    },
    "kernelspec": {
      "display_name": ".venv",
      "language": "python",
      "name": "python3"
    },
    "language_info": {
      "codemirror_mode": {
        "name": "ipython",
        "version": 3
      },
      "file_extension": ".py",
      "mimetype": "text/x-python",
      "name": "python",
      "nbconvert_exporter": "python",
      "pygments_lexer": "ipython3",
      "version": "3.12.3"
    }
  },
  "nbformat": 4,
  "nbformat_minor": 0
}
