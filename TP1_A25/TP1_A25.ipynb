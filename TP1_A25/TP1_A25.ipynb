{
  "cells": [
    {
      "cell_type": "markdown",
      "metadata": {
        "id": "QHlkMmMV-eHr"
      },
      "source": [
        "# INF8775 – Analyse et conception d’algorithmes\n",
        "# TP1 – Automne 2025"
      ]
    },
    {
      "cell_type": "markdown",
      "metadata": {
        "id": "--laEk0s-eHs"
      },
      "source": [
        "NOM, Prénom, 1234567\n",
        "\n",
        "NOM, Prénom, 1234567"
      ]
    },
    {
      "cell_type": "markdown",
      "metadata": {
        "id": "-l2gz80E-eHt"
      },
      "source": [
        "Note finale :"
      ]
    },
    {
      "cell_type": "markdown",
      "metadata": {
        "id": "JPXMjpDk-eHt"
      },
      "source": [
        " **Date limite de remise :** 30 septembre (B2), 7 octobre (B2)"
      ]
    },
    {
      "cell_type": "markdown",
      "metadata": {
        "id": "OYIURJUz-eHt"
      },
      "source": [
        "# Instructions\n",
        "\n",
        "## Rédaction et remise du rapport\n",
        "\n",
        "- Ce notebook constitue à la fois le sujet du TP, votre code et votre rapport. Il contient déjà du code pour faciliter vos mesures et l'affichage de vos résultats, ainsi qu'un squelette pour votre rapport.\n",
        "\n",
        "- Complétez directement le notebook, vous êtes libres de créer de nouvelles cellules de code ou de texte.\n",
        "\n",
        "- Les questions et tâches à effectuées sont généralement indiquées par un TODO, mais lisez attentivement car nous pourrions avoir oublié d'en indiquer certaines.\n",
        "\n",
        "- Des questions sont réutilisées d'un algorithme à l'autre (puisque l'on reproduit les expérimentations à des fins de comparaisons). Veillez à suffisament développer les premières réponses afin de l'on comprenne bien votre raisonnement et pour montrer votre bonne compréhension. Vous pourrez être plus concis par la suite.\n",
        "\n",
        "- Remettez le fichier du notebook sur Moodle avec le nom `NOM1_MATRICULE1_NOM2_MATRICULE2.ipynb`\n",
        "\n",
        "- Vous pouvez inclure du code trouvé sur Internet, mais vous devez en mentionner la source, sous peine d'être sanctionnés pour plagiat. Cela s'applique aussi au niveau de l'IA générative pour le code. Par contre, vous devez être capable d'accomplir les analyses par vous-même. Vous ne pouvez pas utiliser l'IA pour ces sections.\n",
        "\n",
        "## Mise en situation\n",
        "\n",
        "Ce travail pratique se répartit sur deux séances de laboratoire et porte sur l’analyse empirique et hybride des algorithmes. Dans les capsules vidéo de la semaine 3, trois approches d’analyse de l’implantation d’un algorithme sont décrites. Vous les mettrez en pratique pour des algorithmes de résolution d’un problème connu.\n",
        "\n",
        "\n",
        "## Description du problème\n",
        "\n",
        "On vous demande de résoudre le problème de la ligne d’horizon (The Skyline Problem) qui consiste à dessiner la silhouette de bâtiments lorsqu’ils sont vus de loin. Ces bâtiments sont juxtaposés l’un à l’autre et il est possible que l’un en cache un autre.\n",
        "\n",
        "Chaque bâtiment est défini par le triplet `(l, r, h)` avec `h` la hauteur du bâtiment et `l` et `r` les abscisses des murs gauche et droit, respectivement.\n",
        "\n",
        "La solution représente une suite de couples `(x, h)` représentant les coordonnées des points définissant la silhouette des bâtiments.\n",
        "\n",
        "Soit l’exemple suivant avec 5 bâtiments :\n",
        "\n",
        "- L'exemplaire est : `(2, 9, 10), (3, 7, 15), (5, 12, 12), (15, 20, 10),\n",
        "(19, 24, 8)`\n",
        "- La solution est : `(2, 10), (3, 15), (7, 12), (12, 0), (15, 10), (20, 8), (24, 0)`\n",
        "\n",
        "La figure B représente la silhouette (et donc la solution) tracée par les bâtiments colorés de la figure A."
      ]
    },
    {
      "cell_type": "code",
      "execution_count": 102,
      "metadata": {},
      "outputs": [
        {
          "name": "stdout",
          "output_type": "stream",
          "text": [
            "Requirement already satisfied: matplotlib in ./.venv/lib/python3.12/site-packages (3.10.6)\n",
            "Requirement already satisfied: numpy in ./.venv/lib/python3.12/site-packages (2.3.2)\n",
            "Requirement already satisfied: contourpy>=1.0.1 in ./.venv/lib/python3.12/site-packages (from matplotlib) (1.3.3)\n",
            "Requirement already satisfied: cycler>=0.10 in ./.venv/lib/python3.12/site-packages (from matplotlib) (0.12.1)\n",
            "Requirement already satisfied: fonttools>=4.22.0 in ./.venv/lib/python3.12/site-packages (from matplotlib) (4.59.2)\n",
            "Requirement already satisfied: kiwisolver>=1.3.1 in ./.venv/lib/python3.12/site-packages (from matplotlib) (1.4.9)\n",
            "Requirement already satisfied: packaging>=20.0 in ./.venv/lib/python3.12/site-packages (from matplotlib) (25.0)\n",
            "Requirement already satisfied: pillow>=8 in ./.venv/lib/python3.12/site-packages (from matplotlib) (11.3.0)\n",
            "Requirement already satisfied: pyparsing>=2.3.1 in ./.venv/lib/python3.12/site-packages (from matplotlib) (3.2.3)\n",
            "Requirement already satisfied: python-dateutil>=2.7 in ./.venv/lib/python3.12/site-packages (from matplotlib) (2.9.0.post0)\n",
            "Requirement already satisfied: six>=1.5 in ./.venv/lib/python3.12/site-packages (from python-dateutil>=2.7->matplotlib) (1.17.0)\n"
          ]
        }
      ],
      "source": [
        "!pip install matplotlib numpy"
      ]
    },
    {
      "cell_type": "code",
      "execution_count": 103,
      "metadata": {
        "id": "vWcQ8gYf-eHu"
      },
      "outputs": [],
      "source": [
        "# Problem data\n",
        "example_buildings = [(2, 13, 10), (3, 7, 15), (5, 12, 12), (15, 20, 10), (19, 24, 8)]\n",
        "\n",
        "# Solution data\n",
        "example_skyline = [(2, 10), (3, 15), (7, 12), (12, 0), (15, 10), (20, 8), (24, 0)]"
      ]
    },
    {
      "cell_type": "code",
      "execution_count": 104,
      "metadata": {
        "id": "88jJAjJB-eHu",
        "outputId": "9ab55679-003b-427a-8889-a5a0b8f9ead5"
      },
      "outputs": [
        {
          "data": {
            "image/png": "[encoded data removed]",
            "text/plain": [
              "<Figure size 1000x500 with 2 Axes>"
            ]
          },
          "metadata": {},
          "output_type": "display_data"
        }
      ],
      "source": [
        "import matplotlib.pyplot as plt\n",
        "import numpy as np\n",
        "\n",
        "# Create a figure and a set of subplots with equal width\n",
        "fig, axs = plt.subplots(1, 2, figsize=(10,5), gridspec_kw={'width_ratios': [1, 1]})\n",
        "\n",
        "# Create the first subplot to show the problem data as colored filled rectangles\n",
        "for building in example_buildings:\n",
        " left, right, height = building\n",
        " axs[0].fill([left, right, right, left], [0, 0, height, height])\n",
        "\n",
        "axs[0].set_ylim([0, 20])\n",
        "axs[0].set_aspect('equal')\n",
        "axs[0].set_title('Problem data')\n",
        "\n",
        "# Create the second subplot to plot the skyline as a staircase function\n",
        "x = [x for x, _ in example_skyline]\n",
        "y = [y for _, y in example_skyline]\n",
        "axs[1].step(x, y, where='post', color='black')\n",
        "\n",
        "# Add the solution points as red dots\n",
        "axs[1].plot(x, y, 'ro')\n",
        "\n",
        "axs[1].set_ylim([0, 20])\n",
        "axs[1].set_aspect('equal')\n",
        "axs[1].set_title('Skyline')\n",
        "\n",
        "plt.show()\n"
      ]
    },
    {
      "cell_type": "markdown",
      "metadata": {
        "id": "mFeI84lv-eHv"
      },
      "source": [
        "## Algorithmes à implanter\n",
        "\n",
        "On vous demande de résoudre ce problème de 3 façons différentes :\n",
        "\n",
        "1. En utilisant un algorithme force brute simple ;\n",
        "2. En utilisant un algorithme diviser pour régner ;\n",
        "3. En utilisant un algorithme diviser pour régner avec seuil de récursivité non élémentaire.\n",
        "\n",
        "Pour l’algorithme 3, vous devrez déterminer un seuil de récursivité expérimentalement. Les exemplaires dont la taille est en deçà de ce seuil ne sont plus résolus récursivement mais plutôt directement avec l’algorithme 1.\n",
        "\n",
        "Vos algorithmes doivent donner des réponses où les couples `(x, h)` sont triés de façon non décroissante selon x (cf. exemple plus haut). Par ailleurs, ils ne doivent pas donner de solutions avec couples redondants, i.e. deux couples qui se suivent ne peuvent pas avoir la même hauteur ni la même abscisse."
      ]
    },
    {
      "cell_type": "markdown",
      "metadata": {
        "id": "8ngmaX7g-eHv"
      },
      "source": [
        "\n",
        "## Jeu de données\n",
        "\n",
        "La fonction `generate_sample` ci-dessous permet de générer un exemplaire d'une taille donnée.\n",
        "\n",
        "La fonction `get_dataset` permet de récupérer un dataset pour la liste de taille fournie. Elle prend également en entrée un graine aléatoire pour générer le dataset en question.\n",
        "\n",
        "Afin que chaque groupe travaille avec un set différent, mais que vos propres expériences soient reproductibles, entrez l'un de vous matricule comme graine aléatoire dans la cellule ci-dessous.\n",
        "\n",
        "Vous êtes bien entendu libres de tester et mesurer vos algorithme sur le même dataset qu'un autre groupe. Pour cela, générez simplement un dataset avec la même graine et la même liste de taille.\n",
        "\n"
      ]
    },
    {
      "cell_type": "code",
      "execution_count": 105,
      "metadata": {
        "id": "SJgOUDpi-eHw"
      },
      "outputs": [],
      "source": [
        "import random\n",
        "\n",
        "max_width = 50\n",
        "max_dist = 30\n",
        "max_height = 300\n",
        "\n",
        "def generate_sample(size):\n",
        "    sample = []\n",
        "    last_l = 0\n",
        "    for _ in range(size):\n",
        "        l = random.randint(last_l, last_l + max_dist)\n",
        "        r = random.randint(l+1, l + max_width)\n",
        "        h = random.randint(1, max_height)\n",
        "        sample.append((l, r, h))\n",
        "        last_l = l\n",
        "    return sample\n",
        "\n",
        "def get_dataset(seed, sizes):\n",
        "    random.seed(seed)\n",
        "    return { size: [generate_sample(size) for _ in range(5)]\n",
        "        for size in sizes }"
      ]
    },
    {
      "cell_type": "code",
      "execution_count": 106,
      "metadata": {
        "id": "DYe1SOUj-eHw"
      },
      "outputs": [],
      "source": [
        "# TODO: Utilisez un de vos matricules comme graine et une liste de tailles judicieusement choisies\n",
        "dataset = get_dataset(2188585, [10, 20, 100, 500, 1_000])\n"
      ]
    },
    {
      "cell_type": "markdown",
      "metadata": {
        "id": "WadL2p4n-eHw"
      },
      "source": [
        "# Implantations et expérimentations"
      ]
    },
    {
      "cell_type": "markdown",
      "metadata": {
        "id": "gnRsZBAx-eHw"
      },
      "source": [
        "Ces fonctions auxiliaires vous sont fournies pour vérifier l'exactitude des vos algorithmes, mesurer leurs performance et afficher vos résultats.\n",
        "\n",
        "Il est recommandé de prendre le temps de lire et comprendre le code.\n",
        "\n",
        "Exécutez la cellule ci-dessous pour pouvoir utiliser les fonctions auxiliaires."
      ]
    },
    {
      "cell_type": "code",
      "execution_count": 107,
      "metadata": {
        "id": "zXwkUt1r-eHw"
      },
      "outputs": [],
      "source": [
        "import matplotlib.pyplot as plt\n",
        "import time\n",
        "import statistics as stats\n",
        "\n",
        "def verification_plot(buildings, skyline):\n",
        "    # Create a figure and a set of subplots with equal width\n",
        "    fig, ax = plt.subplots(figsize=(10,5))\n",
        "\n",
        "    # Create the first subplot to show the problem data as colored filled rectangles\n",
        "    for building in buildings:\n",
        "        left, right, height = building\n",
        "        ax.fill([left, right, right, left], [0, 0, height, height])\n",
        "\n",
        "    # Create the second subplot to plot the skyline as a staircase function\n",
        "    x = [x for x, _ in skyline]\n",
        "    y = [y for _, y in skyline]\n",
        "    ax.step(x, y, where='post', color='black')\n",
        "\n",
        "    # Add the solution points as red dots\n",
        "    ax.plot(x, y, 'ro')\n",
        "\n",
        "    plt.show()\n",
        "\n",
        "\n",
        "def measure(procedure, sample):\n",
        "    \"\"\" Mesure le temps d'execution d'une procédure sur un unique exemplaire \"\"\"\n",
        "    start = time.time()\n",
        "    solution = procedure(sample)\n",
        "    end = time.time()\n",
        "    sorting_time = end - start\n",
        "    return solution, sorting_time\n",
        "\n",
        "\n",
        "def measure_mean_time(procedure, samples):\n",
        "    \"\"\" Mesure le temps moyen d'execution d'une procédure sur une liste d'exemplaires \"\"\"\n",
        "    total_time = 0\n",
        "    for sample in samples:\n",
        "        solution, compute_time = measure(procedure, sample)\n",
        "        total_time += compute_time\n",
        "    return total_time / len(samples)\n",
        "\n",
        "\n",
        "def measure_procedure(procedure, dataset):\n",
        "    \"\"\" Mesure les temps moyens d'execution d'une procédure sur chaque point d'un dataset \"\"\"\n",
        "    return {size: measure_mean_time(procedure, samples) for size, samples in dataset.items()}\n",
        "\n",
        "def display_measures_table(measures):\n",
        "    print(\"{: <12} {: <12}\".format(\"Taille\", \"Temps moyen (s)\"))\n",
        "    for size, measure in measures.items():\n",
        "        print(\"{: <12} {: <12}\".format(size, measure))\n",
        "\n",
        "\n",
        "def display_test_puissance(vals, title=\"Test de puissance\"):\n",
        "    x = list(vals.keys())\n",
        "    y = list(vals.values())\n",
        "\n",
        "    # Perform linear regression\n",
        "    m, b = stats.linear_regression(x, y)\n",
        "\n",
        "    r = list(map(lambda x : m*x + b, x))\n",
        "\n",
        "    # Create the line equation\n",
        "    line_eq = f\"y = {m:.2f}x + {b:.2f}\"\n",
        "\n",
        "    # Plot the points\n",
        "    plt.scatter(x, y, label='Mesures')\n",
        "\n",
        "    # Plot the regression line\n",
        "    plt.plot(x, r, color=\"red\", label='Regression linéaire')\n",
        "\n",
        "    # Add labels and title\n",
        "    plt.xlabel('log Taille')\n",
        "    plt.ylabel('log Temps')\n",
        "    plt.title(title)\n",
        "\n",
        "    # Add legend\n",
        "    plt.legend(bbox_to_anchor=(0.60, 0), loc='lower left')\n",
        "\n",
        "    # Display the line equation\n",
        "    plt.text(min(x), max(y), line_eq)\n",
        "\n",
        "    # Show the plot\n",
        "    plt.show()\n",
        "\n",
        "def display_test_rapport(vals, title=\"Test du rapport\"):\n",
        "    x = list(vals.keys())\n",
        "    y = list(vals.values())\n",
        "\n",
        "    plt.plot(x, y, label='Mesures')\n",
        "    plt.scatter(x, y, label='Mesures')\n",
        "\n",
        "    # Add labels and title\n",
        "    plt.xlabel('Taille')\n",
        "    plt.ylabel('Temps / f(taille)')\n",
        "    plt.title(title)\n",
        "    plt.show()\n",
        "\n",
        "\n",
        "def display_test_constantes(vals, title=\"Test des constantes\"):\n",
        "    x = list(vals.keys())\n",
        "    y = list(vals.values())\n",
        "\n",
        "    # Perform linear regression\n",
        "    m, b = stats.linear_regression(x, y)\n",
        "\n",
        "    r = list(map(lambda x : m*x + b, x))\n",
        "\n",
        "    # Create the line equation\n",
        "    line_eq = f\"y = {m:.2E}x + {b:.2E}\"\n",
        "\n",
        "    # Plot the points\n",
        "    plt.scatter(x, y, label='Mesures')\n",
        "\n",
        "    # Plot the regression line\n",
        "    plt.plot(x, r, color=\"red\", label='Regression linéaire')\n",
        "\n",
        "    # Add labels and title\n",
        "    plt.xlabel('f(Taille)')\n",
        "    plt.ylabel('Temps')\n",
        "    plt.title(title)\n",
        "\n",
        "    # Add legend\n",
        "    plt.legend(bbox_to_anchor=(0.60, 0), loc='lower left')\n",
        "\n",
        "    # Display the line equation\n",
        "    plt.text(min(x), max(y), line_eq)\n",
        "\n",
        "    # Show the plot\n",
        "    plt.show()\n",
        "\n",
        "\n",
        "def display_mesures_seuil(vals):\n",
        "    x = list(vals.keys())\n",
        "    y = list(vals.values())\n",
        "    plt.plot(x, y, label='Mesures')\n",
        "    plt.scatter(x, y, label='Mesures')\n",
        "\n",
        "    # Add labels and title\n",
        "    plt.xlabel('Seuil')\n",
        "    plt.ylabel('Temps')\n",
        "    plt.title('Selection du seuil')\n",
        "    plt.show()\n",
        "\n",
        "\n"
      ]
    },
    {
      "cell_type": "markdown",
      "metadata": {
        "id": "8RoEA1J9-eHw"
      },
      "source": [
        "## Algorithme naïf (brute force) (6 points)"
      ]
    },
    {
      "cell_type": "markdown",
      "metadata": {
        "id": "WPQPnmQ9-eHx"
      },
      "source": [
        "### Implémentation (1.5 points)"
      ]
    },
    {
      "cell_type": "markdown",
      "metadata": {
        "id": "oJS8SqyP-eHx"
      },
      "source": [
        "TODO: Implantez un algorithme naïf pour le problème de la ligne d'horizon.\n",
        "\n",
        "TODO: Utilisez la fonction `verification_plot` sur l'exemplaire de présentation du problème `example_buildings` pour vérifier l'exactitude de votre algorithme et laissez la figure dans votre rapport."
      ]
    },
    {
      "cell_type": "code",
      "execution_count": 108,
      "metadata": {
        "id": "rpLpUi-x-eHx"
      },
      "outputs": [
        {
          "data": {
            "image/png": "[encoded data removed]",
            "text/plain": [
              "<Figure size 1000x500 with 1 Axes>"
            ]
          },
          "metadata": {},
          "output_type": "display_data"
        }
      ],
      "source": [
        "def skyline_bruteforce(buildings):\n",
        "    skyline = []\n",
        "    \"\"\"x, h, is_start\"\"\"\n",
        "    skyline_points: tuple[int, int, bool] = []\n",
        "    heap_heights = []\n",
        "    \n",
        "    for building in buildings:\n",
        "        left, right, height = building\n",
        "        skyline_points.append((left, height, True))\n",
        "        skyline_points.append((right, height, False))\n",
        "\n",
        "    skyline_points.sort(key=lambda x: x[0])\n",
        "\n",
        "    for skyline_point in skyline_points:\n",
        "        is_start = skyline_point[2]\n",
        "        building_height = skyline_point[1]\n",
        "        \n",
        "        if is_start:\n",
        "            heap_heights.append(building_height)\n",
        "        elif not is_start:\n",
        "            heap_heights.remove(building_height)\n",
        "\n",
        "        current_max_height = max(heap_heights) if heap_heights else 0\n",
        "        current_height = building_height\n",
        "\n",
        "        if current_height >= current_max_height:\n",
        "            skyline.append((skyline_point[0], current_max_height))\n",
        "            current_max_height = current_height\n",
        "\n",
        "\n",
        "    return skyline\n",
        "\n",
        "\n",
        "verification_plot(example_buildings, skyline_bruteforce(example_buildings))"
      ]
    },
    {
      "cell_type": "markdown",
      "metadata": {
        "id": "q8zV34sziyMW"
      },
      "source": [
        "### Analyse asymptotique (1 points)"
      ]
    },
    {
      "cell_type": "markdown",
      "metadata": {
        "id": "E0In6VBy-eHx"
      },
      "source": [
        "TODO: Quelle est la complexité asymptotique théorique de cet algorithme?"
      ]
    },
    {
      "cell_type": "markdown",
      "metadata": {},
      "source": [
        "La complexité asymptotique théorique de cet algorithme est O(n * log(n)). "
      ]
    },
    {
      "cell_type": "markdown",
      "metadata": {
        "id": "2k7v7QIj-eHx"
      },
      "source": [
        "### Mesures (0.5 points)"
      ]
    },
    {
      "cell_type": "code",
      "execution_count": 109,
      "metadata": {
        "id": "bjQ-nF96-eHx"
      },
      "outputs": [],
      "source": [
        "measures_bruteforce = measure_procedure(skyline_bruteforce, dataset)"
      ]
    },
    {
      "cell_type": "markdown",
      "metadata": {
        "id": "rLd8DCsm-eHx"
      },
      "source": [
        "Représentez vos mesures sous forme d'un tableau avec la fonction `display_measures_table`."
      ]
    },
    {
      "cell_type": "code",
      "execution_count": 110,
      "metadata": {
        "id": "1nE7dWaj-eHx"
      },
      "outputs": [
        {
          "name": "stdout",
          "output_type": "stream",
          "text": [
            "Taille       Temps moyen (s)\n",
            "10           2.765655517578125e-05\n",
            "20           4.6825408935546876e-05\n",
            "100          0.000225067138671875\n",
            "500          0.0010930538177490235\n",
            "1000         0.0021208763122558595\n"
          ]
        }
      ],
      "source": [
        "display_measures_table(measures_bruteforce)"
      ]
    },
    {
      "cell_type": "markdown",
      "metadata": {
        "id": "Hiydrb3n-eHx"
      },
      "source": [
        "### Analyse hybride\n",
        "\n",
        "#### Test de puissance (1 point)\n",
        "\n",
        "Effectuez le test de puissance de votre algorithme.\n",
        "\n",
        "Pour cela complétez d'abord le code de la fonction `values_test_puissance` pour obtenir les valeurs à placer sur le graphe. Utilisez ensuite la fonction `display_test_puissance` pour afficher le graphe."
      ]
    },
    {
      "cell_type": "code",
      "execution_count": 111,
      "metadata": {
        "id": "mux11Err-eHy"
      },
      "outputs": [
        {
          "ename": "StatisticsError",
          "evalue": "linear regression requires at least two data points",
          "output_type": "error",
          "traceback": [
            "\u001b[31m---------------------------------------------------------------------------\u001b[39m",
            "\u001b[31mStatisticsError\u001b[39m                           Traceback (most recent call last)",
            "\u001b[36mCell\u001b[39m\u001b[36m \u001b[39m\u001b[32mIn[111]\u001b[39m\u001b[32m, line 10\u001b[39m\n\u001b[32m      3\u001b[39m \u001b[38;5;28;01mdef\u001b[39;00m\u001b[38;5;250m \u001b[39m\u001b[34mvalues_test_puissance\u001b[39m(measures):\n\u001b[32m      4\u001b[39m     \u001b[38;5;28;01mreturn\u001b[39;00m {\n\u001b[32m      5\u001b[39m         \u001b[38;5;66;03m# TODO: calculez les valeurs pour le test de puissance\u001b[39;00m\n\u001b[32m      6\u001b[39m         \u001b[32m0\u001b[39m:\u001b[32m0\u001b[39m\n\u001b[32m      7\u001b[39m         \u001b[38;5;28;01mfor\u001b[39;00m size, measure \u001b[38;5;129;01min\u001b[39;00m measures.items()\n\u001b[32m      8\u001b[39m     }\n\u001b[32m---> \u001b[39m\u001b[32m10\u001b[39m \u001b[43mdisplay_test_puissance\u001b[49m\u001b[43m(\u001b[49m\u001b[43mvalues_test_puissance\u001b[49m\u001b[43m(\u001b[49m\u001b[43mmeasures_bruteforce\u001b[49m\u001b[43m)\u001b[49m\u001b[43m,\u001b[49m\u001b[43m \u001b[49m\u001b[33;43m\"\u001b[39;49m\u001b[33;43mTest de puissance: algorithme naïf\u001b[39;49m\u001b[33;43m\"\u001b[39;49m\u001b[43m)\u001b[49m\n",
            "\u001b[36mCell\u001b[39m\u001b[36m \u001b[39m\u001b[32mIn[107]\u001b[39m\u001b[32m, line 58\u001b[39m, in \u001b[36mdisplay_test_puissance\u001b[39m\u001b[34m(vals, title)\u001b[39m\n\u001b[32m     55\u001b[39m y = \u001b[38;5;28mlist\u001b[39m(vals.values())\n\u001b[32m     57\u001b[39m \u001b[38;5;66;03m# Perform linear regression\u001b[39;00m\n\u001b[32m---> \u001b[39m\u001b[32m58\u001b[39m m, b = \u001b[43mstats\u001b[49m\u001b[43m.\u001b[49m\u001b[43mlinear_regression\u001b[49m\u001b[43m(\u001b[49m\u001b[43mx\u001b[49m\u001b[43m,\u001b[49m\u001b[43m \u001b[49m\u001b[43my\u001b[49m\u001b[43m)\u001b[49m\n\u001b[32m     60\u001b[39m r = \u001b[38;5;28mlist\u001b[39m(\u001b[38;5;28mmap\u001b[39m(\u001b[38;5;28;01mlambda\u001b[39;00m x : m*x + b, x))\n\u001b[32m     62\u001b[39m \u001b[38;5;66;03m# Create the line equation\u001b[39;00m\n",
            "\u001b[36mFile \u001b[39m\u001b[32m/usr/lib/python3.12/statistics.py:1136\u001b[39m, in \u001b[36mlinear_regression\u001b[39m\u001b[34m(x, y, proportional)\u001b[39m\n\u001b[32m   1134\u001b[39m     \u001b[38;5;28;01mraise\u001b[39;00m StatisticsError(\u001b[33m'\u001b[39m\u001b[33mlinear regression requires that both inputs have same number of data points\u001b[39m\u001b[33m'\u001b[39m)\n\u001b[32m   1135\u001b[39m \u001b[38;5;28;01mif\u001b[39;00m n < \u001b[32m2\u001b[39m:\n\u001b[32m-> \u001b[39m\u001b[32m1136\u001b[39m     \u001b[38;5;28;01mraise\u001b[39;00m StatisticsError(\u001b[33m'\u001b[39m\u001b[33mlinear regression requires at least two data points\u001b[39m\u001b[33m'\u001b[39m)\n\u001b[32m   1137\u001b[39m \u001b[38;5;28;01mif\u001b[39;00m \u001b[38;5;129;01mnot\u001b[39;00m proportional:\n\u001b[32m   1138\u001b[39m     xbar = fsum(x) / n\n",
            "\u001b[31mStatisticsError\u001b[39m: linear regression requires at least two data points"
          ]
        }
      ],
      "source": [
        "import math\n",
        "\n",
        "def values_test_puissance(measures):\n",
        "    return {\n",
        "        # TODO: calculez les valeurs pour le test de puissance\n",
        "        0:0\n",
        "        for size, measure in measures.items()\n",
        "    }\n",
        "\n",
        "display_test_puissance(values_test_puissance(measures_bruteforce), \"Test de puissance: algorithme naïf\")\n"
      ]
    },
    {
      "cell_type": "markdown",
      "metadata": {
        "id": "IaQi7OG3-eHy"
      },
      "source": [
        "TODO: Analysez le graphe obtenu pour le test de puissance."
      ]
    },
    {
      "cell_type": "markdown",
      "metadata": {
        "id": "-5KlBQdH-eHy"
      },
      "source": [
        "#### Test du rapport (1 point)\n",
        "\n",
        "Effectuez le test du rapport avec une ou plusieurs fonctions f pertinentes.\n",
        "\n",
        "Complétez d'abord la fonction `values_test_rapport` permettant d'obtenir les valeurs à reporter sur le graphe. Puis utilisez la fonction `display_test_rapport` pour afficher le graphe."
      ]
    },
    {
      "cell_type": "code",
      "execution_count": null,
      "metadata": {
        "id": "Bw-BPdus-eHy"
      },
      "outputs": [],
      "source": [
        "def values_test_rapport(measures, f):\n",
        "    return {\n",
        "        # TODO: calculez les valeurs pour le test du rapport\n",
        "        0 : 0\n",
        "        for size, measure in measures.items()\n",
        "    }\n",
        "\n",
        "# TODO: definissez f judicieusement\n",
        "def f(x):\n",
        "    return 0\n",
        "\n",
        "display_test_rapport(values_test_rapport(measures_bruteforce, f))"
      ]
    },
    {
      "cell_type": "markdown",
      "metadata": {
        "id": "WrY2WMR4-eHy"
      },
      "source": [
        "TODO: Analysez le graphe obtenu pour le test du rapport. Précisez le critère de choix de votre ou vos fonctions."
      ]
    },
    {
      "cell_type": "markdown",
      "metadata": {
        "id": "xnzMrvXO-eHy"
      },
      "source": [
        "### Test des constantes (1 point)\n",
        "\n",
        "Effectuez le test des constantes avec une ou plusieurs fonctions f pertinentes.\n",
        "\n",
        "Complétez d'abord la fonction `values_test_constantes` permettant d'obtenir les valeurs à reporter sur le graphe. Puis utilisez la fonction `display_test_constantes` pour afficher le graphe."
      ]
    },
    {
      "cell_type": "code",
      "execution_count": null,
      "metadata": {
        "id": "Ywmk9rxk-eHy"
      },
      "outputs": [],
      "source": [
        "def values_test_constantes(measures, f):\n",
        "    return {\n",
        "        # TODO: calculez les valeurs pour le test du rapport\n",
        "        0 : 0\n",
        "        for size, measure in measures.items()\n",
        "    }\n",
        "\n",
        "# TODO: définissez f judicieusement\n",
        "def f(x):\n",
        "    return 0\n",
        "\n",
        "display_test_constantes(values_test_constantes(measures_bruteforce, f))"
      ]
    },
    {
      "cell_type": "markdown",
      "metadata": {
        "id": "nU74x4M--eHy"
      },
      "source": [
        "TODO: Indiquez les valeurs des constantes mises en évidence par le test."
      ]
    },
    {
      "cell_type": "markdown",
      "metadata": {
        "id": "C9GG1tmm-eHy"
      },
      "source": [
        "\n",
        "## Algorithme diviser pour régner (6 points)\n"
      ]
    },
    {
      "cell_type": "markdown",
      "metadata": {
        "id": "lvb2akFdidmL"
      },
      "source": [
        "### Implémentation (1.5 points)"
      ]
    },
    {
      "cell_type": "markdown",
      "metadata": {
        "id": "poEHPsrZ-eHz"
      },
      "source": [
        "TODO: Implantez un algorithme pour le problème de la ligne d'horizon utlisant le patron de conception \"Diviser pour régner\".\n",
        "\n",
        "Il est conseillé de prévoir un paramètre pour le seuil de récursivité (e.g. `threshold`), en dessous duquel, vous utiliserez l'algorithme naïf écrit précédemment. Dans ce cas, le seuil devrait être 1."
      ]
    },
    {
      "cell_type": "code",
      "execution_count": 170,
      "metadata": {
        "id": "b1rBNsRx-eHz"
      },
      "outputs": [],
      "source": [
        "def merge_skyline(left: list[tuple[int, int]], right: list[tuple[int, int]]):\n",
        "    pass\n",
        "\n",
        "    # skyline = []\n",
        "    # h1, h2 = 0, 0\n",
        "    # i, j = 0, 0\n",
        "\n",
        "    # while i < len(left) and j < len(right):\n",
        "    #     if left[i][0] < right[j][0]:\n",
        "    #         x, h1 = left[i]\n",
        "    #         i += 1\n",
        "    #     elif left[i][0] > right[j][0]:\n",
        "    #         x, h2 = right[j]\n",
        "    #         j += 1\n",
        "    #     else:\n",
        "    #         x = left[i][0]\n",
        "    #         h1 = left[i][1]\n",
        "    #         h2 = right[j][1]\n",
        "    #         i += 1\n",
        "    #         j += 1\n",
        "\n",
        "    #     max_h = max(h1, h2)\n",
        "    #     if not skyline or skyline[-1][1] != max_h:\n",
        "    #         skyline.append((x, max_h))\n",
        "\n",
        "    # while i < len(left):\n",
        "    #     skyline.append(left[i])\n",
        "    #     i += 1\n",
        "\n",
        "    # while j < len(right):\n",
        "    #     skyline.append(right[j])\n",
        "    #     j += 1\n",
        "\n",
        "    # return skyline\n",
        "\n",
        "def skyline_divide_and_conquer(buildings: list[tuple[int, int, int]], threshold: int):\n",
        "    skyline = []\n",
        "    if len(buildings) <= threshold:\n",
        "        skyline = skyline_bruteforce(buildings)\n",
        "    else:\n",
        "        mid = len(buildings) // 2\n",
        "        left_skyline = skyline_divide_and_conquer(buildings[:mid], threshold)\n",
        "        right_skyline = skyline_divide_and_conquer(buildings[mid:], threshold)\n",
        "        skyline = merge_skyline(left_skyline, right_skyline)\n",
        "        \n",
        "    return skyline"
      ]
    },
    {
      "cell_type": "markdown",
      "metadata": {
        "id": "eAI9KAu1-eHz"
      },
      "source": [
        "\n",
        "TODO: Utilisez la fonction `verification_plot` sur l'exemplaire de présentation du problème `example_buildings` pour vérifier l'exactitude de votre algorithme et laissez la figure dans votre rapport."
      ]
    },
    {
      "cell_type": "code",
      "execution_count": 171,
      "metadata": {
        "id": "USgVZVMk-eHz"
      },
      "outputs": [
        {
          "ename": "TypeError",
          "evalue": "'NoneType' object is not iterable",
          "output_type": "error",
          "traceback": [
            "\u001b[31m---------------------------------------------------------------------------\u001b[39m",
            "\u001b[31mTypeError\u001b[39m                                 Traceback (most recent call last)",
            "\u001b[36mCell\u001b[39m\u001b[36m \u001b[39m\u001b[32mIn[171]\u001b[39m\u001b[32m, line 10\u001b[39m\n\u001b[32m      8\u001b[39m my_dataset = get_dataset(\u001b[32m21889985\u001b[39m, [size_dataset])\n\u001b[32m      9\u001b[39m buildings_dataset = my_dataset[size_dataset][\u001b[32m0\u001b[39m]\n\u001b[32m---> \u001b[39m\u001b[32m10\u001b[39m \u001b[43mverification_plot\u001b[49m\u001b[43m(\u001b[49m\u001b[43mbuildings_dataset\u001b[49m\u001b[43m,\u001b[49m\u001b[43m \u001b[49m\u001b[43mskyline_divide_and_conquer_naive_threshold\u001b[49m\u001b[43m(\u001b[49m\u001b[43mbuildings_dataset\u001b[49m\u001b[43m)\u001b[49m\u001b[43m)\u001b[49m\n",
            "\u001b[36mCell\u001b[39m\u001b[36m \u001b[39m\u001b[32mIn[107]\u001b[39m\u001b[32m, line 15\u001b[39m, in \u001b[36mverification_plot\u001b[39m\u001b[34m(buildings, skyline)\u001b[39m\n\u001b[32m     12\u001b[39m     ax.fill([left, right, right, left], [\u001b[32m0\u001b[39m, \u001b[32m0\u001b[39m, height, height])\n\u001b[32m     14\u001b[39m \u001b[38;5;66;03m# Create the second subplot to plot the skyline as a staircase function\u001b[39;00m\n\u001b[32m---> \u001b[39m\u001b[32m15\u001b[39m x = \u001b[43m[\u001b[49m\u001b[43mx\u001b[49m\u001b[43m \u001b[49m\u001b[38;5;28;43;01mfor\u001b[39;49;00m\u001b[43m \u001b[49m\u001b[43mx\u001b[49m\u001b[43m,\u001b[49m\u001b[43m \u001b[49m\u001b[43m_\u001b[49m\u001b[43m \u001b[49m\u001b[38;5;129;43;01min\u001b[39;49;00m\u001b[43m \u001b[49m\u001b[43mskyline\u001b[49m\u001b[43m]\u001b[49m\n\u001b[32m     16\u001b[39m y = [y \u001b[38;5;28;01mfor\u001b[39;00m _, y \u001b[38;5;129;01min\u001b[39;00m skyline]\n\u001b[32m     17\u001b[39m ax.step(x, y, where=\u001b[33m'\u001b[39m\u001b[33mpost\u001b[39m\u001b[33m'\u001b[39m, color=\u001b[33m'\u001b[39m\u001b[33mblack\u001b[39m\u001b[33m'\u001b[39m)\n",
            "\u001b[31mTypeError\u001b[39m: 'NoneType' object is not iterable"
          ]
        },
        {
          "data": {
            "image/png": "[encoded data removed]",
            "text/plain": [
              "<Figure size 1000x500 with 1 Axes>"
            ]
          },
          "metadata": {},
          "output_type": "display_data"
        }
      ],
      "source": [
        "def skyline_divide_and_conquer_naive_threshold(buildings):\n",
        "    # TODO diviser pour régner avec un seuil de récursivité de 1\n",
        "    # use example_buildings with verification_plot\n",
        "    return skyline_divide_and_conquer(buildings, 1)\n",
        "\n",
        "# verification_plot(example_buildings, skyline_divide_and_conquer_naive_threshold(example_buildings))\n",
        "size_dataset = 2000\n",
        "my_dataset = get_dataset(21889985, [size_dataset])\n",
        "buildings_dataset = my_dataset[size_dataset][0]\n",
        "verification_plot(buildings_dataset, skyline_divide_and_conquer_naive_threshold(buildings_dataset))"
      ]
    },
    {
      "cell_type": "markdown",
      "metadata": {
        "id": "qJ9ARm2xmHcL"
      },
      "source": [
        "### Analyse asymptotique (1 points)"
      ]
    },
    {
      "cell_type": "markdown",
      "metadata": {
        "id": "0oslzFLC-eHz"
      },
      "source": [
        "TODO: Quelle est la complexité asymptotique théorique de cet algorithme?"
      ]
    },
    {
      "cell_type": "markdown",
      "metadata": {
        "id": "LAqsq9bX-eHz"
      },
      "source": [
        "### Mesures (0.5 points)"
      ]
    },
    {
      "cell_type": "code",
      "execution_count": 166,
      "metadata": {
        "id": "0QjVv5q_-eH0"
      },
      "outputs": [],
      "source": [
        "measures_divide_naive_threshold = measure_procedure(skyline_divide_and_conquer_naive_threshold, dataset)"
      ]
    },
    {
      "cell_type": "code",
      "execution_count": 167,
      "metadata": {
        "id": "_J-lDz2d-eH0"
      },
      "outputs": [
        {
          "name": "stdout",
          "output_type": "stream",
          "text": [
            "Taille       Temps moyen (s)\n",
            "25           0.00020875930786132813\n"
          ]
        }
      ],
      "source": [
        "display_measures_table(measures_divide_naive_threshold)"
      ]
    },
    {
      "cell_type": "markdown",
      "metadata": {
        "id": "jEV7FyCn-eH0"
      },
      "source": [
        "### Analyse hybride\n",
        "\n",
        "#### Test de puissance (1 point)\n",
        "\n",
        "Effectuez le test de puissance de votre algorithme.\n",
        "\n",
        "Utilisez la fonction `display_test_puissance` pour afficher le graphe."
      ]
    },
    {
      "cell_type": "code",
      "execution_count": null,
      "metadata": {
        "id": "XZ5U1dMT-eH0"
      },
      "outputs": [],
      "source": [
        "display_test_puissance(values_test_puissance(measures_divide_naive_threshold), \"Test de puissance: algorithme naïf\")"
      ]
    },
    {
      "cell_type": "markdown",
      "metadata": {
        "id": "rpLeRstT-eH0"
      },
      "source": [
        "TODO: Analysez le graphe obtenu pour le test de puissance."
      ]
    },
    {
      "cell_type": "markdown",
      "metadata": {
        "id": "vxzCtLqH-eH0"
      },
      "source": [
        "#### Test du rapport (1 point)\n",
        "\n",
        "Effectuez le test du rapport avec une ou plusieurs fonctions f pertinentes.\n",
        "\n",
        "Utilisez la fonction `display_test_rapport` pour afficher le graphe."
      ]
    },
    {
      "cell_type": "code",
      "execution_count": null,
      "metadata": {
        "id": "eycb9VbS-eH0"
      },
      "outputs": [],
      "source": [
        "# TODO: définissez f judicieusement\n",
        "def f(x):\n",
        "    return 0\n",
        "\n",
        "display_test_rapport(values_test_rapport(measures_divide_naive_threshold, f))"
      ]
    },
    {
      "cell_type": "markdown",
      "metadata": {
        "id": "CWmyOkOp-eH1"
      },
      "source": [
        "TODO: Analysez le graphe obtenu pour le test du rapport."
      ]
    },
    {
      "cell_type": "markdown",
      "metadata": {
        "id": "U-qr0YAd-eH1"
      },
      "source": [
        "### Test des constantes (1 point)\n",
        "\n",
        "Effectuez le test des constantes avec une ou plusieurs fonctions f pertinentes.\n",
        "\n",
        "Utilisez la fonction `display_test_constantes` pour afficher le graphe."
      ]
    },
    {
      "cell_type": "code",
      "execution_count": null,
      "metadata": {
        "id": "oN5mhn3p-eH1"
      },
      "outputs": [],
      "source": [
        "# TODO: définissez f judicieusement\n",
        "def f(x):\n",
        "    return 0\n",
        "\n",
        "display_test_constantes(values_test_constantes(measures_divide_naive_threshold, f))"
      ]
    },
    {
      "cell_type": "markdown",
      "metadata": {
        "id": "jcXuMNLa-eH1"
      },
      "source": [
        "TODO: Indiquez les valeurs des constantes mises en évidence par le test."
      ]
    },
    {
      "cell_type": "markdown",
      "metadata": {
        "id": "FpYSf1E3-eH1"
      },
      "source": [
        "## Algorithme diviser pour régner (seuil choisi) (6 points)\n",
        "\n",
        "### Sélection du seuil (1.5 points)"
      ]
    },
    {
      "cell_type": "markdown",
      "metadata": {
        "id": "GaEcWyvj-eH1"
      },
      "source": [
        "Effectuez les mesures avec plusieurs seuils de récursivité pour déterminer le seuil le plus judicieux."
      ]
    },
    {
      "cell_type": "code",
      "execution_count": null,
      "metadata": {
        "id": "VKnyNyMB-eH1"
      },
      "outputs": [],
      "source": [
        "measures_threshold = {\n",
        "    i:\n",
        "    measure_mean_time(\n",
        "        lambda sample: skyline_divide_and_conquer(sample, i),\n",
        "        []) # TODO: sélectionnez un exemplaire\n",
        "        for i in [] # TODO: testez une liste judicieuse de seuils\n",
        "}\n"
      ]
    },
    {
      "cell_type": "code",
      "execution_count": null,
      "metadata": {
        "id": "6DMjeI8d-eH1"
      },
      "outputs": [],
      "source": [
        "\n",
        "display_mesures_seuil(measures_threshold)\n"
      ]
    },
    {
      "cell_type": "markdown",
      "metadata": {
        "id": "yvVo334g-eH2"
      },
      "source": [
        "TODO: Quel est le seuil de récursivité de le plus judicieux ? Sur quel critère l'avez vous sélectionné ?"
      ]
    },
    {
      "cell_type": "markdown",
      "metadata": {
        "id": "F_SGMxRb-eH2"
      },
      "source": [
        "TODO: Utilisez votre fonction générique pour implanter un algorithme avec le seuil choisi.\n",
        "\n",
        "TODO: Utilisez la fonction `verification_plot` sur l'exemplaire de présentation du problème `example_buildings` pour vérifier l'exactitude de votre algorithme et laissez la figure dans votre rapport."
      ]
    },
    {
      "cell_type": "code",
      "execution_count": null,
      "metadata": {
        "id": "z9mtRpLL-eH2"
      },
      "outputs": [],
      "source": [
        "def skyline_divide_and_conquer_best_threshold(buildings):\n",
        "    # TODO diviser pour régner avec un seuil de récursivité de n\n",
        "    return skyline_divide_and_conquer(buildings, 1)\n",
        "\n",
        "verification_plot(example_buildings, skyline_divide_and_conquer_naive_threshold(example_buildings))"
      ]
    },
    {
      "cell_type": "markdown",
      "metadata": {
        "id": "dDn8gRb4mb9V"
      },
      "source": [
        "### Analyse asymptotique (1 points)"
      ]
    },
    {
      "cell_type": "markdown",
      "metadata": {
        "id": "n4bB4r0e-eH2"
      },
      "source": [
        "TODO: Quelle est la complexité asymptotique théorique de cet algorithme?"
      ]
    },
    {
      "cell_type": "markdown",
      "metadata": {
        "id": "YAjISSg5-eH2"
      },
      "source": [
        "### Mesures (0.5 points)"
      ]
    },
    {
      "cell_type": "code",
      "execution_count": null,
      "metadata": {
        "id": "9paTneVc-eH2"
      },
      "outputs": [],
      "source": [
        "measures_divide_best_threshold = measure_procedure(skyline_divide_and_conquer_best_threshold)"
      ]
    },
    {
      "cell_type": "code",
      "execution_count": null,
      "metadata": {
        "id": "zFt9l85a-eH2"
      },
      "outputs": [],
      "source": [
        "display_measures_table(measures_divide_best_threshold)"
      ]
    },
    {
      "cell_type": "markdown",
      "metadata": {
        "id": "f7yPd5J4-eH2"
      },
      "source": [
        "### Analyse hybride\n",
        "\n",
        "#### Test de puissance (1 point)\n",
        "\n",
        "Effectuez le test de puissance de votre algorithme.\n",
        "\n",
        "Utilisez la fonction `display_test_puissance` pour afficher le graphe."
      ]
    },
    {
      "cell_type": "code",
      "execution_count": null,
      "metadata": {
        "id": "xBrHKV1Q-eH2"
      },
      "outputs": [],
      "source": [
        "display_test_puissance(values_test_puissance(measures_divide_best_threshold), \"Test de puissance: algorithme seuil n\")"
      ]
    },
    {
      "cell_type": "markdown",
      "metadata": {
        "id": "iehDBh4h-eH3"
      },
      "source": [
        "Analysez le graphe obtenu pour le test de puissance."
      ]
    },
    {
      "cell_type": "markdown",
      "metadata": {
        "id": "FludFPB6-eH3"
      },
      "source": [
        "#### Test du rapport (1 point)\n",
        "\n",
        "Effectuez le test du rapport avec une ou plusieurs fonctions f pertinentes.\n",
        "\n",
        "Utilisez la fonction `display_test_rapport` pour afficher le graphe."
      ]
    },
    {
      "cell_type": "code",
      "execution_count": null,
      "metadata": {
        "id": "VGlaMhIR-eH3"
      },
      "outputs": [],
      "source": [
        "# TODO: définissez f judicieusement\n",
        "def f(x):\n",
        "    return 0\n",
        "\n",
        "display_test_rapport(values_test_rapport(measures_divide_best_threshold, f))"
      ]
    },
    {
      "cell_type": "markdown",
      "metadata": {
        "id": "wlPZkg4D-eH3"
      },
      "source": [
        "TODO: Analysez le graphe obtenu pour le test du rapport."
      ]
    },
    {
      "cell_type": "markdown",
      "metadata": {
        "id": "cBYUBO1s-eH3"
      },
      "source": [
        "### Test des constantes (1 point)\n",
        "\n",
        "Effectuez le test des constantes avec une ou plusieurs fonctions f pertinentes.\n",
        "\n",
        "Utilisez la fonction `display_test_constantes` pour afficher le graphe."
      ]
    },
    {
      "cell_type": "code",
      "execution_count": null,
      "metadata": {
        "id": "tUH3wcHe-eH3"
      },
      "outputs": [],
      "source": [
        "# TODO: définissez f judicieusement\n",
        "def f(x):\n",
        "    return 0\n",
        "\n",
        "display_test_constantes(values_test_constantes(measures_divide_best_threshold, f))\n"
      ]
    },
    {
      "cell_type": "markdown",
      "metadata": {
        "id": "yf-JJrJt-eH3"
      },
      "source": [
        "TODO: Indiquez les valeurs des constantes mises en évidence par le test."
      ]
    },
    {
      "cell_type": "markdown",
      "metadata": {
        "id": "rkxWoLqi-eH3"
      },
      "source": [
        "# Conclusion (2 points)\n",
        "\n",
        "\n",
        "TODO: Commentez l'impact du seuil de récursivité. Que représente t'il pour l'algorithme diviser pour régner et l'algorithme naïf ?\n",
        "\n",
        "TODO: En vous basant sur vos résultats, résumez vos découvertes et analyses, et indiquez dans quelles circonstances vous utiliserez chacun de ces 3 algorithmes en démontrant leurs points forts et point faibles."
      ]
    },
    {
      "cell_type": "markdown",
      "metadata": {
        "id": "xd1XyXSG-eH4"
      },
      "source": [
        " ## Autres critères\n",
        "\n",
        "\n",
        "Présentation générale / -\n",
        "1 pt\n",
        "\n",
        "- Concision\n",
        "- Qualité du français\n",
        "\n",
        "Pénalité retard\n",
        "- -1 pt / journée de retard, arrondi vers le haut. Les TPs ne sont plus acceptés après 3 jours."
      ]
    },
    {
      "cell_type": "markdown",
      "metadata": {
        "id": "TP14w-w2-eH4"
      },
      "source": []
    }
  ],
  "metadata": {
    "colab": {
      "provenance": []
    },
    "kernelspec": {
      "display_name": ".venv",
      "language": "python",
      "name": "python3"
    },
    "language_info": {
      "codemirror_mode": {
        "name": "ipython",
        "version": 3
      },
      "file_extension": ".py",
      "mimetype": "text/x-python",
      "name": "python",
      "nbconvert_exporter": "python",
      "pygments_lexer": "ipython3",
      "version": "3.12.3"
    }
  },
  "nbformat": 4,
  "nbformat_minor": 0
}
